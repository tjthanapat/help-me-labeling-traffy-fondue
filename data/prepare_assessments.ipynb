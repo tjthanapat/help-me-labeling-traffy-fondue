{
 "cells": [
  {
   "cell_type": "code",
   "execution_count": 1,
   "metadata": {},
   "outputs": [],
   "source": [
    "import json\n",
    "import pandas as pd\n"
   ]
  },
  {
   "cell_type": "code",
   "execution_count": 3,
   "metadata": {},
   "outputs": [],
   "source": [
    "f = open('assessments.json')\n",
    "assessments_dict = json.load(f)['assessments']\n",
    "f.close()\n"
   ]
  },
  {
   "cell_type": "code",
   "execution_count": 6,
   "metadata": {},
   "outputs": [
    {
     "data": {
      "text/plain": [
       "{'customTags': [],\n",
       " 'standardTags': ['น้ำท่วม'],\n",
       " 'ticketType': 'ร้องเรียน',\n",
       " 'ticketId': '09617'}"
      ]
     },
     "execution_count": 6,
     "metadata": {},
     "output_type": "execute_result"
    }
   ],
   "source": [
    "assessments_dict[0]\n"
   ]
  },
  {
   "cell_type": "code",
   "execution_count": 28,
   "metadata": {},
   "outputs": [],
   "source": [
    "unique_tags = set()\n",
    "for assessment in assessments_dict:\n",
    "    tags = assessment['standardTags'] + assessment['customTags']\n",
    "    unique_tags = unique_tags.union(set(tags))\n"
   ]
  },
  {
   "cell_type": "code",
   "execution_count": 30,
   "metadata": {},
   "outputs": [],
   "source": [
    "default_tags = '''ถนน\n",
    "น้ำท่วม\n",
    "ทางเท้า\n",
    "แสงสว่าง\n",
    "ความสะอาด\n",
    "ความปลอดภัย\n",
    "ท่อระบายน้ำ\n",
    "สะพาน\n",
    "สายไฟ\n",
    "กีดขวาง\n",
    "จราจร\n",
    "คลอง\n",
    "ต้นไม้\n",
    "เสียงรบกวน\n",
    "สัตว์จรจัด\n",
    "เสนอแนะ\n",
    "คนจรจัด\n",
    "การเดินทาง\n",
    "ร้องเรียน\n",
    "สอบถาม\n",
    "ป้าย\n",
    "ห้องน้ำ\n",
    "ป้ายจราจร'''\n",
    "default_tags = default_tags.split('\\n')\n",
    "default_tags = set(default_tags)\n"
   ]
  },
  {
   "cell_type": "code",
   "execution_count": 35,
   "metadata": {},
   "outputs": [
    {
     "name": "stdout",
     "output_type": "stream",
     "text": [
      "Default: 23\n",
      "Unique: 72\n"
     ]
    }
   ],
   "source": [
    "print(f'Default: {len(default_tags)}')\n",
    "print(f'Unique: {len(unique_tags)}')\n"
   ]
  },
  {
   "cell_type": "code",
   "execution_count": 34,
   "metadata": {},
   "outputs": [
    {
     "name": "stdout",
     "output_type": "stream",
     "text": [
      "['-', 'Traffy Fondue', 'กฎหมาย', 'กลิ่น', 'กลิ่นรบกวน', 'กลิ่นเหม็น', 'การก่อสร้าง', 'การชำรุด', 'ขนส่งมวลชน', 'ขยะ', 'ควัน', 'งานก่อสร้าง', 'งานนิทรรศการ', 'จอดรถ', 'จอดรถยนต์', 'จุดรอรถโดยสาธารณะ', 'ทางม้าลาย', 'ที่จอดรถ', 'ที่อยู่อาศัย', 'ทุจริต', 'ท่อประปา', 'น้ำประปา', 'น้ำเน่าเสีย', 'น้ำเสีย', 'บุกรุกที่ดิน', 'ป้าบจราจร', 'ป้ายรถประจำทาง', 'ป้ายรถเมล์', 'ผังเมืองและสิ่งปลูกสร้าง', 'ภาษี', 'มิจฉาชีพ', 'รถติด', 'รถสาธารณะ', 'ลุกล้ำพื้นที่', 'สนามกีฬา', 'สวนสาธารณะ', 'สะพานลอย', 'สัตว์พาหะนำโรค', 'สัตว์มีพิษ', 'สัตว์อันตราย', 'สัตว์เลี้ยง', 'สาธารณสุข', 'สาธารณูปโภค', 'สูบบุหรี่ในที่ห้ามสูบ', 'หาบเร่แผงลอย', 'อาคารและสิ่งปลูกสร้าง', 'อุบัติเหตุ', 'เจ้าหน้าที่', 'เด็กเช็ดกระจก', 'เด็กเช็ดกระจกรถ', 'เสาไฟฟ้า', 'ไฟจราจร', 'ไฟทาง']\n"
     ]
    }
   ],
   "source": [
    "diff_unique_tags = list(unique_tags - default_tags)\n",
    "diff_unique_tags.sort()\n",
    "print(diff_unique_tags)\n"
   ]
  },
  {
   "cell_type": "code",
   "execution_count": 61,
   "metadata": {},
   "outputs": [],
   "source": [
    "replace_dict = {\n",
    "    'กลิ่นรบกวน': 'กลิ่น',\n",
    "    'กลิ่นเหม็น': 'กลิ่น',\n",
    "    'การก่อสร้าง': 'ก่อสร้าง',\n",
    "    'การชำรุด': 'ทรัพย์สินเสียหาย',\n",
    "    'ขนส่งมวลชน': 'ขนส่งสาธารณะ',\n",
    "    'ควัน': 'มลพิษ',\n",
    "    'งานก่อสร้าง': 'ก่อสร้าง',\n",
    "    'งานนิทรรศการ': 'นิทรรศการ',\n",
    "    'จุดรอรถโดยสาธารณะ': 'จุดรอรถ',\n",
    "    'ที่จอดรถ': 'จุดจอดรถ',\n",
    "    'ทุจริต': 'ฝ่าฝืนกฏหมาย',\n",
    "    'ท่อประปา': 'การประปา',\n",
    "    'น้ำประปา': 'การประปา',\n",
    "    'น้ำเน่าเสีย': 'โยธา กทม.',\n",
    "    'น้ำเสีย': 'โยธา กทม.',\n",
    "    'บุกรุกที่ดิน': 'ฝ่าฝืนกฏหมาย',\n",
    "    'ป้าบจราจร': 'ป้ายจราจร',\n",
    "    'ป้ายรถประจำทาง': 'จุดรอรถ',\n",
    "    'ป้ายรถเมล์': 'จุดรอรถ',\n",
    "    'มิจฉาชีพ': 'ฝ่าฝืนกฏหมาย',\n",
    "    'รถติด': 'จราจร',\n",
    "    'รถสาธารณะ': 'ขนส่งสาธารณะ',\n",
    "    'ลุกล้ำพื้นที่': 'ฝ่าฝืนกฏหมาย',\n",
    "    'สนามกีฬา': 'พื้นที่สาธารณะ',\n",
    "    'สวนสาธารณะ': 'พื้นที่สาธารณะ',\n",
    "    'สัตว์พาหะนำโรค': 'สาธารณสุข',\n",
    "    'สัตว์มีพิษ': 'ภัยจากสัตว์',\n",
    "    'สัตว์อันตราย': 'ภัยจากสัตว์',\n",
    "    'สัตว์เลี้ยง': 'สัตว์',\n",
    "    'สูบบุหรี่ในที่ห้ามสูบ': 'ฝ่าฝืนกฏหมาย',\n",
    "    'อุบัติเหตุ': 'แจ้งเหตุด่วน',\n",
    "    'เด็กเช็ดกระจก': 'เด็กเช็ดกระจกรถ',\n",
    "    'ไฟทาง': 'แสงสว่าง',\n",
    "}\n"
   ]
  },
  {
   "cell_type": "code",
   "execution_count": 62,
   "metadata": {},
   "outputs": [
    {
     "data": {
      "text/plain": [
       "dict_keys(['กลิ่นรบกวน', 'กลิ่นเหม็น', 'การก่อสร้าง', 'การชำรุด', 'ขนส่งมวลชน', 'ควัน', 'งานก่อสร้าง', 'งานนิทรรศการ', 'จุดรอรถโดยสาธารณะ', 'ที่จอดรถ', 'ทุจริต', 'ท่อประปา', 'น้ำประปา', 'น้ำเน่าเสีย', 'น้ำเสีย', 'บุกรุกที่ดิน', 'ป้าบจราจร', 'ป้ายรถประจำทาง', 'ป้ายรถเมล์', 'มิจฉาชีพ', 'รถติด', 'รถสาธารณะ', 'ลุกล้ำพื้นที่', 'สนามกีฬา', 'สวนสาธารณะ', 'สัตว์พาหะนำโรค', 'สัตว์มีพิษ', 'สัตว์อันตราย', 'สัตว์เลี้ยง', 'สูบบุหรี่ในที่ห้ามสูบ', 'อุบัติเหตุ', 'เด็กเช็ดกระจก', 'ไฟทาง'])"
      ]
     },
     "execution_count": 62,
     "metadata": {},
     "output_type": "execute_result"
    }
   ],
   "source": [
    "duplicated_tags = replace_dict.keys()\n",
    "duplicated_tags\n"
   ]
  },
  {
   "cell_type": "code",
   "execution_count": 63,
   "metadata": {},
   "outputs": [],
   "source": [
    "assessments = list()\n",
    "\n",
    "for assessment in assessments_dict:\n",
    "    tags = assessment['standardTags'] + assessment['customTags']\n",
    "    assessment_default_tags = list()\n",
    "    assessment_custom_tags = list()\n",
    "    for tag in tags:\n",
    "        if (tag in default_tags):\n",
    "            assessment_default_tags.append(tag)\n",
    "        elif (tag in duplicated_tags):\n",
    "            assessment_custom_tags.append(replace_dict[tag])\n",
    "        else:\n",
    "            assessment_custom_tags.append(tag)\n",
    "\n",
    "    assessments.append({\n",
    "        'ticketId': assessment['ticketId'],\n",
    "        'ticketType': assessment['ticketType'],\n",
    "        'defaultTags': assessment_default_tags,\n",
    "        'customTags': assessment_custom_tags,\n",
    "    })\n"
   ]
  },
  {
   "cell_type": "code",
   "execution_count": 67,
   "metadata": {},
   "outputs": [],
   "source": [
    "assessments_to_df = list()\n",
    "\n",
    "for assessment in assessments:\n",
    "    formatted_assessment = {\n",
    "        'ticketId': assessment['ticketId'],\n",
    "        'defaultTag1': assessment['ticketType'],\n",
    "    }\n",
    "    try:\n",
    "        formatted_assessment['defaultTag2'] = assessment['defaultTags'][0]\n",
    "    except:\n",
    "        formatted_assessment['defaultTag2'] = '-'\n",
    "    try:\n",
    "        formatted_assessment['defaultTag3'] = assessment['defaultTags'][1]\n",
    "    except:\n",
    "        formatted_assessment['defaultTag3'] = '-'\n",
    "    try:\n",
    "        formatted_assessment['defaultTag4'] = assessment['defaultTags'][2]\n",
    "    except:\n",
    "        formatted_assessment['defaultTag4'] = '-'\n",
    "    try:\n",
    "        formatted_assessment['defaultTag5'] = assessment['defaultTags'][3]\n",
    "    except:\n",
    "        formatted_assessment['defaultTag5'] = '-'\n",
    "\n",
    "    if (len(assessment['customTags']) != 0):\n",
    "        formatted_assessment['customTags'] = '[\"' + \\\n",
    "            '\", \"'.join(assessment['customTags'])+'\"]'\n",
    "        for i in range(4):\n",
    "            if (formatted_assessment[f'defaultTag{2+i}'] == '-'):\n",
    "                formatted_assessment[f'defaultTag{2+i}'] = 'อื่นๆ'\n",
    "                break\n",
    "    else:\n",
    "        formatted_assessment['customTags'] = ''\n",
    "\n",
    "    assessments_to_df.append(formatted_assessment)\n"
   ]
  },
  {
   "cell_type": "code",
   "execution_count": 68,
   "metadata": {},
   "outputs": [
    {
     "data": {
      "text/html": [
       "<div>\n",
       "<style scoped>\n",
       "    .dataframe tbody tr th:only-of-type {\n",
       "        vertical-align: middle;\n",
       "    }\n",
       "\n",
       "    .dataframe tbody tr th {\n",
       "        vertical-align: top;\n",
       "    }\n",
       "\n",
       "    .dataframe thead th {\n",
       "        text-align: right;\n",
       "    }\n",
       "</style>\n",
       "<table border=\"1\" class=\"dataframe\">\n",
       "  <thead>\n",
       "    <tr style=\"text-align: right;\">\n",
       "      <th></th>\n",
       "      <th>ticketId</th>\n",
       "      <th>defaultTag1</th>\n",
       "      <th>defaultTag2</th>\n",
       "      <th>defaultTag3</th>\n",
       "      <th>defaultTag4</th>\n",
       "      <th>defaultTag5</th>\n",
       "      <th>customTags</th>\n",
       "    </tr>\n",
       "  </thead>\n",
       "  <tbody>\n",
       "    <tr>\n",
       "      <th>0</th>\n",
       "      <td>09617</td>\n",
       "      <td>ร้องเรียน</td>\n",
       "      <td>น้ำท่วม</td>\n",
       "      <td>-</td>\n",
       "      <td>-</td>\n",
       "      <td>-</td>\n",
       "      <td></td>\n",
       "    </tr>\n",
       "    <tr>\n",
       "      <th>1</th>\n",
       "      <td>10087</td>\n",
       "      <td>ร้องเรียน</td>\n",
       "      <td>น้ำท่วม</td>\n",
       "      <td>-</td>\n",
       "      <td>-</td>\n",
       "      <td>-</td>\n",
       "      <td></td>\n",
       "    </tr>\n",
       "    <tr>\n",
       "      <th>2</th>\n",
       "      <td>10050</td>\n",
       "      <td>ร้องเรียน</td>\n",
       "      <td>การเดินทาง</td>\n",
       "      <td>อื่นๆ</td>\n",
       "      <td>-</td>\n",
       "      <td>-</td>\n",
       "      <td>[\"สะพานลอย\"]</td>\n",
       "    </tr>\n",
       "    <tr>\n",
       "      <th>3</th>\n",
       "      <td>09600</td>\n",
       "      <td>เสนอแนะ</td>\n",
       "      <td>อื่นๆ</td>\n",
       "      <td>-</td>\n",
       "      <td>-</td>\n",
       "      <td>-</td>\n",
       "      <td>[\"ไฟจราจร\", \"ทางม้าลาย\"]</td>\n",
       "    </tr>\n",
       "    <tr>\n",
       "      <th>4</th>\n",
       "      <td>09993</td>\n",
       "      <td>ร้องเรียน</td>\n",
       "      <td>อื่นๆ</td>\n",
       "      <td>-</td>\n",
       "      <td>-</td>\n",
       "      <td>-</td>\n",
       "      <td>[\"เจ้าหน้าที่\"]</td>\n",
       "    </tr>\n",
       "    <tr>\n",
       "      <th>...</th>\n",
       "      <td>...</td>\n",
       "      <td>...</td>\n",
       "      <td>...</td>\n",
       "      <td>...</td>\n",
       "      <td>...</td>\n",
       "      <td>...</td>\n",
       "      <td>...</td>\n",
       "    </tr>\n",
       "    <tr>\n",
       "      <th>669</th>\n",
       "      <td>09831</td>\n",
       "      <td>ร้องเรียน</td>\n",
       "      <td>ถนน</td>\n",
       "      <td>น้ำท่วม</td>\n",
       "      <td>-</td>\n",
       "      <td>-</td>\n",
       "      <td></td>\n",
       "    </tr>\n",
       "    <tr>\n",
       "      <th>670</th>\n",
       "      <td>09926</td>\n",
       "      <td>ร้องเรียน</td>\n",
       "      <td>ถนน</td>\n",
       "      <td>-</td>\n",
       "      <td>-</td>\n",
       "      <td>-</td>\n",
       "      <td></td>\n",
       "    </tr>\n",
       "    <tr>\n",
       "      <th>671</th>\n",
       "      <td>09504</td>\n",
       "      <td>ร้องเรียน</td>\n",
       "      <td>น้ำท่วม</td>\n",
       "      <td>-</td>\n",
       "      <td>-</td>\n",
       "      <td>-</td>\n",
       "      <td></td>\n",
       "    </tr>\n",
       "    <tr>\n",
       "      <th>672</th>\n",
       "      <td>09736</td>\n",
       "      <td>ร้องเรียน</td>\n",
       "      <td>จราจร</td>\n",
       "      <td>ถนน</td>\n",
       "      <td>-</td>\n",
       "      <td>-</td>\n",
       "      <td></td>\n",
       "    </tr>\n",
       "    <tr>\n",
       "      <th>673</th>\n",
       "      <td>09654</td>\n",
       "      <td>ร้องเรียน</td>\n",
       "      <td>ทางเท้า</td>\n",
       "      <td>อื่นๆ</td>\n",
       "      <td>-</td>\n",
       "      <td>-</td>\n",
       "      <td>[\"ขยะ\"]</td>\n",
       "    </tr>\n",
       "  </tbody>\n",
       "</table>\n",
       "<p>674 rows × 7 columns</p>\n",
       "</div>"
      ],
      "text/plain": [
       "    ticketId defaultTag1 defaultTag2 defaultTag3 defaultTag4 defaultTag5  \\\n",
       "0      09617   ร้องเรียน     น้ำท่วม           -           -           -   \n",
       "1      10087   ร้องเรียน     น้ำท่วม           -           -           -   \n",
       "2      10050   ร้องเรียน  การเดินทาง       อื่นๆ           -           -   \n",
       "3      09600     เสนอแนะ       อื่นๆ           -           -           -   \n",
       "4      09993   ร้องเรียน       อื่นๆ           -           -           -   \n",
       "..       ...         ...         ...         ...         ...         ...   \n",
       "669    09831   ร้องเรียน         ถนน     น้ำท่วม           -           -   \n",
       "670    09926   ร้องเรียน         ถนน           -           -           -   \n",
       "671    09504   ร้องเรียน     น้ำท่วม           -           -           -   \n",
       "672    09736   ร้องเรียน       จราจร         ถนน           -           -   \n",
       "673    09654   ร้องเรียน     ทางเท้า       อื่นๆ           -           -   \n",
       "\n",
       "                   customTags  \n",
       "0                              \n",
       "1                              \n",
       "2                [\"สะพานลอย\"]  \n",
       "3    [\"ไฟจราจร\", \"ทางม้าลาย\"]  \n",
       "4             [\"เจ้าหน้าที่\"]  \n",
       "..                        ...  \n",
       "669                            \n",
       "670                            \n",
       "671                            \n",
       "672                            \n",
       "673                   [\"ขยะ\"]  \n",
       "\n",
       "[674 rows x 7 columns]"
      ]
     },
     "execution_count": 68,
     "metadata": {},
     "output_type": "execute_result"
    }
   ],
   "source": [
    "assessments_df = pd.DataFrame(assessments_to_df)\n",
    "assessments_df\n"
   ]
  },
  {
   "cell_type": "code",
   "execution_count": 69,
   "metadata": {},
   "outputs": [],
   "source": [
    "assessments_df.to_csv('assessments_formatted.csv',\n",
    "                      index=False, encoding='utf-8')\n"
   ]
  }
 ],
 "metadata": {
  "kernelspec": {
   "display_name": "Python 3.9.7 ('base')",
   "language": "python",
   "name": "python3"
  },
  "language_info": {
   "codemirror_mode": {
    "name": "ipython",
    "version": 3
   },
   "file_extension": ".py",
   "mimetype": "text/x-python",
   "name": "python",
   "nbconvert_exporter": "python",
   "pygments_lexer": "ipython3",
   "version": "3.9.7"
  },
  "orig_nbformat": 4,
  "vscode": {
   "interpreter": {
    "hash": "2fe7d652243bcdb6cde2e69617dc664bf14361ea2de14b139d2fec55ec2ae7e2"
   }
  }
 },
 "nbformat": 4,
 "nbformat_minor": 2
}
